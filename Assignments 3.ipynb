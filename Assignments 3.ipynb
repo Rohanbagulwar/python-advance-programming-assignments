{
 "cells": [
  {
   "cell_type": "markdown",
   "id": "2e51e54e",
   "metadata": {},
   "source": [
    "# Assignment 3\n",
    "\n",
    "\n",
    "\n",
    "\n",
    "\n",
    "\n",
    "\n"
   ]
  },
  {
   "cell_type": "markdown",
   "id": "6082964f",
   "metadata": {},
   "source": [
    "# 1. Create a function to perform basic arithmetic operations that includes addition, subtraction, multiplication and division on a string number (e.g. \"12 + 24\" or \"23 - 21\" or \"12 // 12\" or \"12 * 21\").\n",
    "\n",
    "Here, we have 1 followed by a space, operator followed by another space and 2. For the challenge, we are going to have only two numbers between 1 valid operator. The return value should be a number.\n",
    "\n",
    "eval() is not allowed. In case of division, whenever the second number equals \"0\" return -1.\n",
    "\n"
   ]
  },
  {
   "cell_type": "code",
   "execution_count": null,
   "id": "14b8fe59",
   "metadata": {},
   "outputs": [],
   "source": [
    "For example:\n",
    "\n",
    "\"15 // 0\"  ➞ -1\n",
    "\n",
    "Examples\n",
    "\n",
    "arithmetic_operation(\"12 + 12\") ➞ 24 // 12 + 12 = 24\n",
    "\n",
    "arithmetic_operation(\"12 - 12\") ➞ 24 // 12 - 12 = 0\n",
    "\n",
    "arithmetic_operation(\"12 * 12\") ➞ 144 // 12 * 12 = 144\n",
    "\n",
    "arithmetic_operation(\"12 // 0\") ➞ -1 // 12 / 0 = -1"
   ]
  },
  {
   "cell_type": "code",
   "execution_count": 25,
   "id": "f8ea7df0",
   "metadata": {},
   "outputs": [],
   "source": [
    "def arithmetic_operation(a):\n",
    "    ls=['+','-','/','//','*']\n",
    "    count=0\n",
    "    for i in a:\n",
    "        count+=1\n",
    "        if i in ls:\n",
    "            temp=a.split(a[count])\n",
    "            if temp[1]=='+':\n",
    "                res=int(temp[0])+int(temp[2])\n",
    "                res=res//int(temp[0])+int(temp[2])\n",
    "                print(res)\n",
    "            if temp[1]=='-':\n",
    "                res=int(temp[0])-int(temp[2])\n",
    "                res=res//int(temp[0])-int(temp[2])\n",
    "                print(res)\n",
    "            if temp[1]=='*':\n",
    "                res=int(temp[0])*int(temp[2])\n",
    "                res=res//int(temp[0])*int(temp[2])\n",
    "                print(res)\n",
    "            if temp[1]=='/':\n",
    "                res=int(temp[0])/int(temp[2])\n",
    "                res=res//int(temp[0])/int(temp[2])\n",
    "                print(res)\n",
    "                \n",
    "\n",
    "            \n",
    "\n",
    "\n",
    "    \n",
    "    "
   ]
  },
  {
   "cell_type": "code",
   "execution_count": 27,
   "id": "92b0e626",
   "metadata": {},
   "outputs": [
    {
     "name": "stdout",
     "output_type": "stream",
     "text": [
      "14\n"
     ]
    }
   ],
   "source": [
    "arithmetic_operation(\"12 + 12\") \n",
    "\n"
   ]
  },
  {
   "cell_type": "code",
   "execution_count": 28,
   "id": "8be6d529",
   "metadata": {},
   "outputs": [
    {
     "name": "stdout",
     "output_type": "stream",
     "text": [
      "-12\n"
     ]
    }
   ],
   "source": [
    "arithmetic_operation(\"12 - 12\")\n",
    "\n"
   ]
  },
  {
   "cell_type": "code",
   "execution_count": 29,
   "id": "3c6c82ce",
   "metadata": {},
   "outputs": [
    {
     "name": "stdout",
     "output_type": "stream",
     "text": [
      "144\n"
     ]
    }
   ],
   "source": [
    "arithmetic_operation(\"12 * 12\") \n",
    "\n"
   ]
  },
  {
   "cell_type": "code",
   "execution_count": 30,
   "id": "cf4ddcd3",
   "metadata": {},
   "outputs": [],
   "source": [
    "arithmetic_operation(\"12 // 0\")"
   ]
  },
  {
   "cell_type": "code",
   "execution_count": null,
   "id": "d56f4224",
   "metadata": {},
   "outputs": [],
   "source": [
    "2. Write a function that takes the coordinates of three points in the form of a 2d array and returns the perimeter of the triangle. The given points are the vertices of a triangle on a two-dimensional plane.\n",
    "\n",
    "Examples\n",
    "\n"
   ]
  },
  {
   "cell_type": "code",
   "execution_count": null,
   "id": "17b3ddfc",
   "metadata": {},
   "outputs": [],
   "source": [
    " ➞ 47.08\n",
    "\n",
    " ➞ 3.42\n",
    "\n",
    " ➞ 68.28"
   ]
  },
  {
   "cell_type": "code",
   "execution_count": 39,
   "id": "466dff18",
   "metadata": {},
   "outputs": [],
   "source": [
    "import math\n",
    "def perimeter(ls):\n",
    "    j=0\n",
    "    ans=0\n",
    "    for i in range(3):\n",
    "\n",
    "        if i==2:\n",
    "            j=0\n",
    "            x1=ls[j][0]\n",
    "            y1=ls[j][1]\n",
    "            x2=ls[j+2][0]\n",
    "            y2=ls[j+2][1]\n",
    "        else:\n",
    "            x1=ls[j][0]\n",
    "            y1=ls[j][1]\n",
    "            x2=ls[j+1][0]\n",
    "            y2=ls[j+1][1]\n",
    "        ans+=math.sqrt((x2-x1)**2+(y2-y1)**2)\n",
    "        j+=1\n",
    "    print(ans)\n",
    "    \n",
    "    \n",
    "\n"
   ]
  },
  {
   "cell_type": "code",
   "execution_count": 40,
   "id": "2bc3ce48",
   "metadata": {},
   "outputs": [
    {
     "name": "stdout",
     "output_type": "stream",
     "text": [
      "47.07918859608948\n"
     ]
    }
   ],
   "source": [
    "perimeter( [ [15, 7], [5, 22], [11, 1] ] )"
   ]
  },
  {
   "cell_type": "code",
   "execution_count": 41,
   "id": "2d48b3db",
   "metadata": {},
   "outputs": [
    {
     "name": "stdout",
     "output_type": "stream",
     "text": [
      "3.414213562373095\n"
     ]
    }
   ],
   "source": [
    "perimeter( [ [0, 0], [0, 1], [1, 0] ] )"
   ]
  },
  {
   "cell_type": "code",
   "execution_count": 42,
   "id": "38864ca1",
   "metadata": {},
   "outputs": [
    {
     "name": "stdout",
     "output_type": "stream",
     "text": [
      "68.2842712474619\n"
     ]
    }
   ],
   "source": [
    "perimeter( [ [-10, -10], [10, 10 ], [-10, 10] ] )"
   ]
  },
  {
   "cell_type": "code",
   "execution_count": null,
   "id": "60a31909",
   "metadata": {},
   "outputs": [],
   "source": []
  },
  {
   "cell_type": "markdown",
   "id": "f1df8876",
   "metadata": {},
   "source": [
    "# 4. A financial institution provides professional services to banks and claims charges from the customers based on the number of man-days provided. Internally, it has set a scheme to motivate and reward staff to meet and exceed targeted billable utilization and revenues by paying a bonus for each day claimed from customers in excess of a threshold target.\n",
    "\n",
    "This quarterly scheme is calculated with a threshold target of 32 days per quarter, and the incentive payment for each billable day in excess of such threshold target is shown as follows:\n",
    "\n",
    "Days\t                             Bonus\n",
    "0 to 32 days\t                   Zero\n",
    "33 to 40 days\t         SGD$325 per billable day\n",
    "41 to 48 days\t         SGD$550 per billable day\n",
    "Greater than 48 days      SGD$600 per billable day"
   ]
  },
  {
   "cell_type": "markdown",
   "id": "911ec3cf",
   "metadata": {},
   "source": [
    "# Please note that incentive payment is calculated progressively. As an example, if an employee reached total billable days of 45 in a quarter, his/her incentive payment is computed as follows:\n",
    "\n",
    "32*0 + 8*325 + 5*550 = 5350\n",
    "\n"
   ]
  },
  {
   "cell_type": "code",
   "execution_count": null,
   "id": "157f6bf0",
   "metadata": {},
   "outputs": [],
   "source": [
    "Write a function to read the billable days of an employee and return the bonus he/she has obtained in that quarter.\n",
    "\n",
    "Examples\n",
    "\n",
    "bonus(15) ➞ 0\n",
    "\n",
    "bonus(37) ➞ 1625\n",
    "\n",
    "bonus(50) ➞ 8200\n"
   ]
  },
  {
   "cell_type": "code",
   "execution_count": 59,
   "id": "d30bcd54",
   "metadata": {},
   "outputs": [],
   "source": [
    "def bonus(days):\n",
    "    if days in range(0,33):\n",
    "        ans=days*0\n",
    "        return ans\n",
    "    if days in range(33,41):\n",
    "        ans=0+((days-32)*325)\n",
    "        return ans\n",
    "    if days in range(41,49):\n",
    "        ans=0+(8*325)+((days-48)*550)\n",
    "        return ans\n",
    "    if days in range(48,1000):\n",
    "        ans=0+(8*325)+(8*550)+((days-48)*600)\n",
    "        return ans\n",
    "    "
   ]
  },
  {
   "cell_type": "code",
   "execution_count": 56,
   "id": "9e87aa22",
   "metadata": {},
   "outputs": [
    {
     "data": {
      "text/plain": [
       "0"
      ]
     },
     "execution_count": 56,
     "metadata": {},
     "output_type": "execute_result"
    }
   ],
   "source": [
    "bonus(1)\n",
    "\n"
   ]
  },
  {
   "cell_type": "code",
   "execution_count": 57,
   "id": "a85ff3c3",
   "metadata": {},
   "outputs": [
    {
     "data": {
      "text/plain": [
       "1625"
      ]
     },
     "execution_count": 57,
     "metadata": {},
     "output_type": "execute_result"
    }
   ],
   "source": [
    "bonus(37) \n",
    "\n"
   ]
  },
  {
   "cell_type": "code",
   "execution_count": 60,
   "id": "53cfcd56",
   "metadata": {},
   "outputs": [
    {
     "data": {
      "text/plain": [
       "8200"
      ]
     },
     "execution_count": 60,
     "metadata": {},
     "output_type": "execute_result"
    }
   ],
   "source": [
    "bonus(50)"
   ]
  },
  {
   "cell_type": "markdown",
   "id": "8dbfcd75",
   "metadata": {},
   "source": [
    "# 3. A city skyline can be represented as a 2-D list with 1s representing buildings. In the example below, the height of the tallest building is 4 (second-most right column).\n",
    "\n",
    "[[0, 0, 0, 0, 0, 0],\n",
    "[0, 0, 0, 0, 1, 0],\n",
    "[0, 0, 1, 0, 1, 0],\n",
    "[0, 1, 1, 1, 1, 0],\n",
    "[1, 1, 1, 1, 1, 1]]\n",
    "\n"
   ]
  },
  {
   "cell_type": "code",
   "execution_count": null,
   "id": "e4cba72f",
   "metadata": {},
   "outputs": [],
   "source": [
    "Create a function that takes a skyline (2-D list of 0's and 1's) and returns the height of the tallest skyscraper.\n",
    "\n",
    "Examples\n",
    "\n"
   ]
  },
  {
   "cell_type": "code",
   "execution_count": 2,
   "id": "675e5368",
   "metadata": {},
   "outputs": [],
   "source": [
    "def tallest_skyscraper(ls):\n",
    "    ans=ls[0][1]+ls[1][1]+ls[2][1]+ls[3][1]\n",
    "    return f'height of building is {ans}'\n",
    "    "
   ]
  },
  {
   "cell_type": "code",
   "execution_count": 3,
   "id": "c5cdd531",
   "metadata": {},
   "outputs": [
    {
     "data": {
      "text/plain": [
       "'height of building is 3'"
      ]
     },
     "execution_count": 3,
     "metadata": {},
     "output_type": "execute_result"
    }
   ],
   "source": [
    "tallest_skyscraper([[0, 0, 0, 0],\n",
    "  [0, 1, 0, 0],\n",
    "  [0, 1, 1, 0],\n",
    "  [1, 1, 1, 1]\n",
    "])\n",
    "\n"
   ]
  },
  {
   "cell_type": "code",
   "execution_count": 4,
   "id": "00175782",
   "metadata": {},
   "outputs": [
    {
     "data": {
      "text/plain": [
       "'height of building is 4'"
      ]
     },
     "execution_count": 4,
     "metadata": {},
     "output_type": "execute_result"
    }
   ],
   "source": [
    "tallest_skyscraper([\n",
    "  [0, 1, 0, 0],\n",
    "  [0, 1, 0, 0],\n",
    "  [0, 1, 1, 0],\n",
    "  [1, 1, 1, 1]\n",
    "]) \n",
    "\n"
   ]
  },
  {
   "cell_type": "code",
   "execution_count": 5,
   "id": "5d038be6",
   "metadata": {},
   "outputs": [
    {
     "data": {
      "text/plain": [
       "'height of building is 2'"
      ]
     },
     "execution_count": 5,
     "metadata": {},
     "output_type": "execute_result"
    }
   ],
   "source": [
    "tallest_skyscraper([\n",
    "  [0, 0, 0, 0],\n",
    "  [0, 0, 0, 0],\n",
    "  [1, 1, 1, 0],\n",
    "  [1, 1, 1, 1]\n",
    "]) "
   ]
  },
  {
   "cell_type": "markdown",
   "id": "ff48ccb7",
   "metadata": {},
   "source": [
    "# 5. A number is said to be Disarium if the sum of its digits raised to their respective positions is the number itself.\n",
    "\n",
    "Create a function that determines whether a number is a Disarium or not.\n",
    "\n"
   ]
  },
  {
   "cell_type": "code",
   "execution_count": null,
   "id": "5d02863b",
   "metadata": {},
   "outputs": [],
   "source": [
    "Examples\n",
    "\n",
    "is_disarium(75) ➞ False\n",
    "# 7^1 + 5^2 = 7 + 25 = 32\n",
    "\n",
    "is_disarium(135) ➞ True\n",
    "# 1^1 + 3^2 + 5^3 = 1 + 9 + 125 = 135\n",
    "\n",
    " ➞ False\n",
    "\n",
    "is_disarium(518) ➞ True\n",
    "\n",
    "is_disarium(466) ➞ False\n",
    "\n",
    "is_disarium(8) ➞ True\n"
   ]
  },
  {
   "cell_type": "code",
   "execution_count": 42,
   "id": "b70ac11d",
   "metadata": {},
   "outputs": [],
   "source": [
    "def is_disarium(nr):\n",
    "    temp=nr\n",
    "    length=len(str(nr))\n",
    "    i=3\n",
    "    res=0\n",
    "    while nr!=0:\n",
    "        ans=nr%10\n",
    "#         print('ans ',ans)\n",
    "        res+=ans**(i)\n",
    "#         print('res ',res)\n",
    "        nr=int(nr/10)\n",
    "#         print('nr ',nr)\n",
    "#         print('i ',i)\n",
    "        i-=1\n",
    "    return res==temp\n",
    "    "
   ]
  },
  {
   "cell_type": "code",
   "execution_count": 43,
   "id": "f658926d",
   "metadata": {},
   "outputs": [
    {
     "data": {
      "text/plain": [
       "False"
      ]
     },
     "execution_count": 43,
     "metadata": {},
     "output_type": "execute_result"
    }
   ],
   "source": [
    "is_disarium(544)"
   ]
  },
  {
   "cell_type": "code",
   "execution_count": 44,
   "id": "51d6ce22",
   "metadata": {},
   "outputs": [
    {
     "data": {
      "text/plain": [
       "True"
      ]
     },
     "execution_count": 44,
     "metadata": {},
     "output_type": "execute_result"
    }
   ],
   "source": [
    "is_disarium(135) "
   ]
  },
  {
   "cell_type": "code",
   "execution_count": 45,
   "id": "1f49d7bf",
   "metadata": {},
   "outputs": [
    {
     "data": {
      "text/plain": [
       "135"
      ]
     },
     "execution_count": 45,
     "metadata": {},
     "output_type": "execute_result"
    }
   ],
   "source": [
    "125+9+1"
   ]
  },
  {
   "cell_type": "code",
   "execution_count": 46,
   "id": "a20cba51",
   "metadata": {},
   "outputs": [
    {
     "data": {
      "text/plain": [
       "True"
      ]
     },
     "execution_count": 46,
     "metadata": {},
     "output_type": "execute_result"
    }
   ],
   "source": [
    "\n",
    "is_disarium(518)"
   ]
  },
  {
   "cell_type": "code",
   "execution_count": 48,
   "id": "e269f385",
   "metadata": {},
   "outputs": [
    {
     "data": {
      "text/plain": [
       "False"
      ]
     },
     "execution_count": 48,
     "metadata": {},
     "output_type": "execute_result"
    }
   ],
   "source": [
    "\n",
    "is_disarium(466)"
   ]
  },
  {
   "cell_type": "code",
   "execution_count": null,
   "id": "fdac16f9",
   "metadata": {},
   "outputs": [],
   "source": []
  }
 ],
 "metadata": {
  "kernelspec": {
   "display_name": "Python 3",
   "language": "python",
   "name": "python3"
  },
  "language_info": {
   "codemirror_mode": {
    "name": "ipython",
    "version": 3
   },
   "file_extension": ".py",
   "mimetype": "text/x-python",
   "name": "python",
   "nbconvert_exporter": "python",
   "pygments_lexer": "ipython3",
   "version": "3.7.0"
  }
 },
 "nbformat": 4,
 "nbformat_minor": 5
}
