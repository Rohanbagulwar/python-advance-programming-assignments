{
 "cells": [
  {
   "cell_type": "markdown",
   "id": "63acaeaf",
   "metadata": {},
   "source": [
    "# Assignment 9"
   ]
  },
  {
   "cell_type": "code",
   "execution_count": null,
   "id": "4c428ce2",
   "metadata": {},
   "outputs": [],
   "source": [
    "1. YouTube offers different playback speed options for users. This allows users to increase or decrease the speed of the video content. Given the actual duration and playback speed of the video, calculate the playback duration of the video.\n",
    "\n",
    "Examples\n",
    "\n",
    "playback_duration(\"00:30:00\", 2) ➞ \"00:15:00\"\n",
    "\n",
    "playback_duration(\"01:20:00\", 1.5) ➞ \"00:53:20\"\n",
    "\n",
    "playback_duration(\"51:20:09\", 0.5) ➞ \"102:40:18\"\n",
    "\n",
    "2. We needs your help to construct a building which will be a pile of n cubes. The cube at the bottom will have a volume of n^3, the cube above will have volume of (n-1)^3 and so on until the top which will have a volume of 1^3.\n",
    "\n",
    "Given the total volume m of the building, can you find the number of cubes n required for the building?\n",
    "\n",
    "In other words, you have to return an integer n such that:\n",
    "\n",
    "n^3 + (n-1)^3 + ... + 1^3 == m\n",
    "\n",
    "Return None if there is no such number.\n",
    "\n",
    "Examples\n",
    "\n",
    "pile_of_cubes(1071225) ➞ 45\n",
    "\n",
    "pile_of_cubes(4183059834009) ➞ 2022\n",
    "\n",
    "pile_of_cubes(16) ➞ None\n",
    "\n",
    "3. A fulcrum of a list is an integer such that all elements to the left of it and all elements to the right of it sum to the same value. Write a function that finds the fulcrum of a list.\n",
    "\n",
    "To illustrate:\n",
    "\n",
    "find_fulcrum([3, 1, 5, 2, 4, 6, -1]) ➞ 2\n",
    "// Since [3, 1, 5] and [4, 6, -1] both sum to 9\n",
    "\n",
    "Examples\n",
    "\n",
    "find_fulcrum([1, 2, 4, 9, 10, -10, -9, 3]) ➞ 4\n",
    "\n",
    "find_fulcrum([9, 1, 9]) ➞ 1\n",
    "\n",
    "find_fulcrum([7, -1, 0, -1, 1, 1, 2, 3]) ➞ 0\n",
    "\n",
    "find_fulcrum([8, 8, 8, 8]) ➞ -1\n",
    "\n",
    "4. Given a list of integers representing the color of each sock, determine how many pairs of socks with matching colors there are. For example, there are 7 socks with colors [1, 2, 1, 2, 1, 3, 2]. There is one pair of color 1 and one of color 2. There are three odd socks left, one of each color. The number of pairs is 2.\n",
    "\n",
    "Create a function that returns an integer representing the number of matching pairs of socks that are available.\n",
    "\n",
    "Examples\n",
    "\n",
    "sock_merchant([10, 20, 20, 10, 10, 30, 50, 10, 20]) ➞ 3\n",
    "\n",
    "sock_merchant([50, 20, 30, 90, 30, 20, 50, 20, 90]) ➞ 4\n",
    "\n",
    "sock_merchant([]) ➞ 0\n",
    "\n",
    "5. Create a function that takes a string containing integers as well as other characters and return the sum of the negative integers only.\n",
    "\n",
    "Examples\n",
    "\n",
    "negative_sum(\"-12 13%14&-11\") ➞ -23\n",
    "# -12 + -11 = -23\n",
    "\n",
    "negative_sum(\"22 13%14&-11-22 13 12\") ➞ -33\n",
    "# -11 + -22 = -33\n"
   ]
  },
  {
   "cell_type": "markdown",
   "id": "ec32d12d",
   "metadata": {},
   "source": [
    "# 1. YouTube offers different playback speed options for users. This allows users to increase or decrease the speed of the video content. Given the actual duration and playback speed of the video, calculate the playback duration of the video.\n",
    "\n"
   ]
  },
  {
   "cell_type": "code",
   "execution_count": null,
   "id": "a2b1f62c",
   "metadata": {},
   "outputs": [],
   "source": [
    "Examples\n",
    "\n",
    "playback_duration(\"00:30:00\", 2) ➞ \"00:15:00\"\n",
    "\n",
    "playback_duration(\"01:20:00\", 1.5) ➞ \"00:53:20\"\n",
    "\n",
    "playback_duration(\"51:20:09\", 0.5) ➞ \"102:40:18\""
   ]
  },
  {
   "cell_type": "code",
   "execution_count": 1,
   "id": "d0b95475",
   "metadata": {},
   "outputs": [],
   "source": [
    "import datetime"
   ]
  },
  {
   "cell_type": "code",
   "execution_count": 98,
   "id": "68e985b0",
   "metadata": {},
   "outputs": [],
   "source": [
    "def playback_duration(time,nr):\n",
    "    temp=time.split(':')\n",
    "    total=int(temp[0])*60+int(temp[1])\n",
    "    if temp[0]=='00':\n",
    "        ans=total/nr\n",
    "        print(str(ans)+'min')\n",
    "    else:\n",
    "        ans=total/nr\n",
    "        ans=ans/60\n",
    "        print(ans)\n",
    "    \n",
    "    \n",
    "    \n",
    "    "
   ]
  },
  {
   "cell_type": "code",
   "execution_count": 99,
   "id": "ccaff0af",
   "metadata": {},
   "outputs": [
    {
     "name": "stdout",
     "output_type": "stream",
     "text": [
      "15.0min\n"
     ]
    }
   ],
   "source": [
    "playback_duration(\"00:30:00\", 2)"
   ]
  },
  {
   "cell_type": "code",
   "execution_count": 41,
   "id": "d050090e",
   "metadata": {},
   "outputs": [
    {
     "name": "stdout",
     "output_type": "stream",
     "text": [
      "0.888888888888889\n"
     ]
    }
   ],
   "source": [
    "playback_duration(\"01:20:00\", 1.5) "
   ]
  },
  {
   "cell_type": "code",
   "execution_count": 34,
   "id": "e98c024a",
   "metadata": {},
   "outputs": [
    {
     "data": {
      "text/plain": [
       "53.333333333333336"
      ]
     },
     "execution_count": 34,
     "metadata": {},
     "output_type": "execute_result"
    }
   ],
   "source": [
    "80/1.5"
   ]
  },
  {
   "cell_type": "code",
   "execution_count": 35,
   "id": "d930315e",
   "metadata": {},
   "outputs": [
    {
     "data": {
      "text/plain": [
       "3080"
      ]
     },
     "execution_count": 35,
     "metadata": {},
     "output_type": "execute_result"
    }
   ],
   "source": [
    "51*60+20"
   ]
  },
  {
   "cell_type": "code",
   "execution_count": 36,
   "id": "a982bcc9",
   "metadata": {},
   "outputs": [
    {
     "data": {
      "text/plain": [
       "6160.0"
      ]
     },
     "execution_count": 36,
     "metadata": {},
     "output_type": "execute_result"
    }
   ],
   "source": [
    "3080/0.5"
   ]
  },
  {
   "cell_type": "code",
   "execution_count": 37,
   "id": "e58b92e8",
   "metadata": {},
   "outputs": [
    {
     "data": {
      "text/plain": [
       "102.66666666666667"
      ]
     },
     "execution_count": 37,
     "metadata": {},
     "output_type": "execute_result"
    }
   ],
   "source": [
    "6160/60"
   ]
  },
  {
   "cell_type": "code",
   "execution_count": 25,
   "id": "f32fa0d6",
   "metadata": {},
   "outputs": [
    {
     "data": {
      "text/plain": [
       "80"
      ]
     },
     "execution_count": 25,
     "metadata": {},
     "output_type": "execute_result"
    }
   ],
   "source": [
    "60+20"
   ]
  },
  {
   "cell_type": "code",
   "execution_count": 26,
   "id": "a920b1f2",
   "metadata": {},
   "outputs": [
    {
     "data": {
      "text/plain": [
       "53.333333333333336"
      ]
     },
     "execution_count": 26,
     "metadata": {},
     "output_type": "execute_result"
    }
   ],
   "source": [
    "80/1.5"
   ]
  },
  {
   "cell_type": "markdown",
   "id": "c62a7ec4",
   "metadata": {},
   "source": [
    "# 2. We needs your help to construct a building which will be a pile of n cubes. The cube at the bottom will have a volume of n^3, the cube above will have volume of (n-1)^3 and so on until the top which will have a volume of 1^3.\n",
    "\n",
    "Given the total volume m of the building, can you find the number of cubes n required for the building?\n",
    "\n"
   ]
  },
  {
   "cell_type": "code",
   "execution_count": null,
   "id": "b2a86896",
   "metadata": {},
   "outputs": [],
   "source": [
    "In other words, you have to return an integer n such that:\n",
    "\n",
    "n^3 + (n-1)^3 + ... + 1^3 == m\n",
    "\n",
    "Return None if there is no such number.\n",
    "\n",
    "Examples\n",
    "\n",
    "pile_of_cubes(1071225) ➞ 45\n",
    "\n",
    "pile_of_cubes(4183059834009) ➞ 2022\n",
    "\n",
    "pile_of_cubes(16) ➞ None"
   ]
  },
  {
   "cell_type": "code",
   "execution_count": 100,
   "id": "49276b71",
   "metadata": {},
   "outputs": [],
   "source": [
    "def pile_of_cubes(m):\n",
    "    if 1 ** 3 == m:\n",
    "        return 1\n",
    "    else:\n",
    "        n = 2\n",
    "        volume = 1\n",
    "        while volume < m:\n",
    "            volume = volume + n ** 3\n",
    "            if volume == m:\n",
    "                return n\n",
    "            else:\n",
    "                n = n + 1\n",
    "                continue\n",
    "        return -1"
   ]
  },
  {
   "cell_type": "code",
   "execution_count": 101,
   "id": "50226703",
   "metadata": {},
   "outputs": [
    {
     "data": {
      "text/plain": [
       "45"
      ]
     },
     "execution_count": 101,
     "metadata": {},
     "output_type": "execute_result"
    }
   ],
   "source": [
    "pile_of_cubes(1071225)"
   ]
  },
  {
   "cell_type": "code",
   "execution_count": 102,
   "id": "d0a384a6",
   "metadata": {},
   "outputs": [
    {
     "data": {
      "text/plain": [
       "2022"
      ]
     },
     "execution_count": 102,
     "metadata": {},
     "output_type": "execute_result"
    }
   ],
   "source": [
    "\n",
    "pile_of_cubes(4183059834009) "
   ]
  },
  {
   "cell_type": "code",
   "execution_count": 103,
   "id": "7b583b2b",
   "metadata": {},
   "outputs": [
    {
     "data": {
      "text/plain": [
       "-1"
      ]
     },
     "execution_count": 103,
     "metadata": {},
     "output_type": "execute_result"
    }
   ],
   "source": [
    "\n",
    "pile_of_cubes(16) "
   ]
  },
  {
   "cell_type": "markdown",
   "id": "978ee313",
   "metadata": {},
   "source": [
    "# 3. A fulcrum of a list is an integer such that all elements to the left of it and all elements to the right of it sum to the same value. Write a function that finds the fulcrum of a list.\n",
    "\n"
   ]
  },
  {
   "cell_type": "code",
   "execution_count": null,
   "id": "71b1879e",
   "metadata": {},
   "outputs": [],
   "source": [
    "To illustrate:\n",
    "\n",
    "find_fulcrum([3, 1, 5, 2, 4, 6, -1]) ➞ 2\n",
    "// Since [3, 1, 5] and [4, 6, -1] both sum to 9\n",
    "\n",
    "Examples\n",
    "\n",
    "find_fulcrum([1, 2, 4, 9, 10, -10, -9, 3]) ➞ 4\n",
    "\n",
    "find_fulcrum([9, 1, 9]) ➞ 1\n",
    "\n",
    "find_fulcrum([7, -1, 0, -1, 1, 1, 2, 3]) ➞ 0\n",
    "\n",
    "find_fulcrum([8, 8, 8, 8]) ➞ -1\n"
   ]
  },
  {
   "cell_type": "code",
   "execution_count": null,
   "id": "b72beba1",
   "metadata": {},
   "outputs": [],
   "source": [
    "def fulcrum(ls):\n",
    "    length=int(len(ls)/2)\n",
    "    haif=sum(ls[:length+1])\n",
    "    add=0\n",
    "    for i in range(length,len(ls)):\n",
    "        add+=ls[i]\n",
    "        if add==haif:\n",
    "            \n",
    "        \n",
    "    "
   ]
  },
  {
   "cell_type": "code",
   "execution_count": 42,
   "id": "5182048f",
   "metadata": {},
   "outputs": [],
   "source": [
    "def find_fulcrum(arr):\n",
    "    leftsum = 0\n",
    "    rightsum = 0\n",
    "    n = len(arr)\n",
    " \n",
    "    # Check for indexes one by one\n",
    "    # until an equilibrium index is found\n",
    "    for i in range(n):\n",
    "        leftsum = 0\n",
    "        rightsum = 0\n",
    "     \n",
    "        # get left sum\n",
    "        for j in range(i):\n",
    "            leftsum += arr[j]\n",
    "         \n",
    "        # get right sum\n",
    "        for j in range(i + 1, n):\n",
    "            rightsum += arr[j]\n",
    "         \n",
    "        # if leftsum and rightsum are same,\n",
    "        # then we are done\n",
    "        if leftsum == rightsum:\n",
    "            return i\n",
    "     \n",
    "    # return -1 if no equilibrium index is found\n",
    "    return -1\n",
    "             \n"
   ]
  },
  {
   "cell_type": "code",
   "execution_count": 43,
   "id": "ef8fadb2",
   "metadata": {},
   "outputs": [
    {
     "data": {
      "text/plain": [
       "3"
      ]
     },
     "execution_count": 43,
     "metadata": {},
     "output_type": "execute_result"
    }
   ],
   "source": [
    "find_fulcrum([3, 1, 5, 2, 4, 6, -1])"
   ]
  },
  {
   "cell_type": "code",
   "execution_count": 44,
   "id": "bf4e2151",
   "metadata": {},
   "outputs": [
    {
     "data": {
      "text/plain": [
       "2"
      ]
     },
     "execution_count": 44,
     "metadata": {},
     "output_type": "execute_result"
    }
   ],
   "source": [
    "find_fulcrum([1, 2, 4, 9, 10, -10, -9, 3]) "
   ]
  },
  {
   "cell_type": "code",
   "execution_count": 45,
   "id": "6f152364",
   "metadata": {},
   "outputs": [
    {
     "data": {
      "text/plain": [
       "12"
      ]
     },
     "execution_count": 45,
     "metadata": {},
     "output_type": "execute_result"
    }
   ],
   "source": [
    "ls=[1,2,3,3,3,3]\n",
    "sum(ls[2:])"
   ]
  },
  {
   "cell_type": "code",
   "execution_count": null,
   "id": "c2fda040",
   "metadata": {},
   "outputs": [],
   "source": []
  },
  {
   "cell_type": "markdown",
   "id": "969a8cb0",
   "metadata": {},
   "source": [
    "# 4. Given a list of integers representing the color of each sock, determine how many pairs of socks with matching colors there are. For example, there are 7 socks with colors [1, 2, 1, 2, 1, 3, 2]. There is one pair of color 1 and one of color 2. There are three odd socks left, one of each color. The number of pairs is 2.\n",
    "\n",
    "Create a function that returns an integer representing the number of matching pairs of socks that are available.\n",
    "\n"
   ]
  },
  {
   "cell_type": "code",
   "execution_count": null,
   "id": "ad3ba4a6",
   "metadata": {},
   "outputs": [],
   "source": [
    "Examples\n",
    "\n",
    "sock_merchant([10, 20, 20, 10, 10, 30, 50, 10, 20]) ➞ 3\n",
    "\n",
    "sock_merchant([50, 20, 30, 90, 30, 20, 50, 20, 90]) ➞ 1\n",
    "\n",
    "sock_merchant([]) ➞ 0"
   ]
  },
  {
   "cell_type": "code",
   "execution_count": 63,
   "id": "03c4976f",
   "metadata": {},
   "outputs": [],
   "source": [
    "def sock_merchant(ls):\n",
    "    d=dict(Counter(ls))\n",
    "    count=0\n",
    "    for i,j in d.items():\n",
    "#         print(i,j)\n",
    "        if j%2==0:\n",
    "            pass\n",
    "        else:\n",
    "            count+=j%2\n",
    "    print(count)\n",
    "            \n",
    "    "
   ]
  },
  {
   "cell_type": "code",
   "execution_count": 64,
   "id": "b1301f77",
   "metadata": {},
   "outputs": [
    {
     "name": "stdout",
     "output_type": "stream",
     "text": [
      "3\n"
     ]
    }
   ],
   "source": [
    "sock_merchant([10, 20, 20, 10, 10, 30, 50, 10, 20])"
   ]
  },
  {
   "cell_type": "code",
   "execution_count": 65,
   "id": "880b58a0",
   "metadata": {},
   "outputs": [
    {
     "name": "stdout",
     "output_type": "stream",
     "text": [
      "1\n"
     ]
    }
   ],
   "source": [
    "sock_merchant([50, 20, 30, 90, 30, 20, 50, 20, 90])"
   ]
  },
  {
   "cell_type": "code",
   "execution_count": 62,
   "id": "0b85d9f6",
   "metadata": {},
   "outputs": [
    {
     "name": "stdout",
     "output_type": "stream",
     "text": [
      "0\n"
     ]
    }
   ],
   "source": [
    "\n",
    "sock_merchant([])"
   ]
  },
  {
   "cell_type": "markdown",
   "id": "401e924d",
   "metadata": {},
   "source": [
    "# 5. Create a function that takes a string containing integers as well as other characters and return the sum of the negative integers only.\n"
   ]
  },
  {
   "cell_type": "code",
   "execution_count": null,
   "id": "c2705818",
   "metadata": {},
   "outputs": [],
   "source": [
    "\n",
    "Examples\n",
    "\n",
    "negative_sum(\"-12 13%14&-11\") ➞ -23\n",
    "# -12 + -11 = -23\n",
    "\n",
    "negative_sum(\"22 13%14&-11-22 13 12\") ➞ -33\n",
    "# -11 + -22 = -33\n"
   ]
  },
  {
   "cell_type": "code",
   "execution_count": 93,
   "id": "a79c4d78",
   "metadata": {},
   "outputs": [],
   "source": [
    "def negative_sum(string):\n",
    "    length=len(string)\n",
    "    count=0\n",
    "    answer=0\n",
    "    for i in range(2):\n",
    "        if count==0:\n",
    "            ans=string.index('-')\n",
    "            count+=1\n",
    "            answer=+int(string[ans+1:ans+4])\n",
    "            print(answer)\n",
    "        else:\n",
    "            print(ans)\n",
    "            ans2=(string[ans+1:].index('-'))\n",
    "#             print(ans2)\n",
    "            answer+=int(string[ans2+2:ans2+4])\n",
    "            print((string[ans2+1:ans2+4]))\n",
    "    print(answer)\n",
    "            \n",
    "        \n",
    "        "
   ]
  },
  {
   "cell_type": "code",
   "execution_count": 94,
   "id": "08358c00",
   "metadata": {},
   "outputs": [
    {
     "name": "stdout",
     "output_type": "stream",
     "text": [
      "12\n",
      "0\n",
      "-11\n",
      "23\n"
     ]
    }
   ],
   "source": [
    "negative_sum(\"-12 13%14&-11\") "
   ]
  },
  {
   "cell_type": "code",
   "execution_count": 97,
   "id": "f6e5c784",
   "metadata": {},
   "outputs": [
    {
     "name": "stdout",
     "output_type": "stream",
     "text": [
      "11\n",
      "9\n",
      "%14\n",
      "25\n"
     ]
    }
   ],
   "source": [
    "negative_sum(\"22 13%14&-11  -22 13 12\")"
   ]
  },
  {
   "cell_type": "code",
   "execution_count": 73,
   "id": "70bbc91f",
   "metadata": {},
   "outputs": [
    {
     "data": {
      "text/plain": [
       "9"
      ]
     },
     "execution_count": 73,
     "metadata": {},
     "output_type": "execute_result"
    }
   ],
   "source": [
    "a[1:].index('-')"
   ]
  },
  {
   "cell_type": "code",
   "execution_count": null,
   "id": "5e8001cd",
   "metadata": {},
   "outputs": [],
   "source": []
  },
  {
   "cell_type": "code",
   "execution_count": null,
   "id": "918f9f8c",
   "metadata": {},
   "outputs": [],
   "source": []
  },
  {
   "cell_type": "code",
   "execution_count": null,
   "id": "3f618f73",
   "metadata": {},
   "outputs": [],
   "source": []
  },
  {
   "cell_type": "code",
   "execution_count": null,
   "id": "ead341df",
   "metadata": {},
   "outputs": [],
   "source": []
  },
  {
   "cell_type": "code",
   "execution_count": null,
   "id": "3547fe7c",
   "metadata": {},
   "outputs": [],
   "source": []
  }
 ],
 "metadata": {
  "kernelspec": {
   "display_name": "Python 3",
   "language": "python",
   "name": "python3"
  },
  "language_info": {
   "codemirror_mode": {
    "name": "ipython",
    "version": 3
   },
   "file_extension": ".py",
   "mimetype": "text/x-python",
   "name": "python",
   "nbconvert_exporter": "python",
   "pygments_lexer": "ipython3",
   "version": "3.7.0"
  }
 },
 "nbformat": 4,
 "nbformat_minor": 5
}
